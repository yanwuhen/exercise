{
 "cells": [
  {
   "cell_type": "code",
   "execution_count": 1,
   "metadata": {
    "collapsed": true
   },
   "outputs": [],
   "source": [
    "from sympy import *"
   ]
  },
  {
   "cell_type": "code",
   "execution_count": 10,
   "metadata": {
    "collapsed": true
   },
   "outputs": [],
   "source": [
    "x = Symbol('x', real=True)"
   ]
  },
  {
   "cell_type": "code",
   "execution_count": 12,
   "metadata": {},
   "outputs": [
    {
     "data": {
      "text/plain": [
       "x**2 + 3*x + 2"
      ]
     },
     "execution_count": 12,
     "metadata": {},
     "output_type": "execute_result"
    }
   ],
   "source": [
    "expand((x+2)*(x+1))"
   ]
  },
  {
   "cell_type": "code",
   "execution_count": 6,
   "metadata": {
    "collapsed": true
   },
   "outputs": [],
   "source": [
    "tmp = series(exp(x), x, 0, 10)"
   ]
  },
  {
   "cell_type": "code",
   "execution_count": 7,
   "metadata": {},
   "outputs": [
    {
     "name": "stdout",
     "output_type": "stream",
     "text": [
      "         2    3    4     5     6     7       8       9           \n",
      "        x    x    x     x     x     x       x       x       ⎛ 10⎞\n",
      "1 + x + ── + ── + ── + ─── + ─── + ──── + ───── + ────── + O⎝x  ⎠\n",
      "        2    6    24   120   720   5040   40320   362880         \n"
     ]
    }
   ],
   "source": [
    "pprint(tmp)"
   ]
  },
  {
   "cell_type": "code",
   "execution_count": 13,
   "metadata": {},
   "outputs": [
    {
     "data": {
      "text/plain": [
       "-x*cos(x) + sin(x)"
      ]
     },
     "execution_count": 13,
     "metadata": {},
     "output_type": "execute_result"
    }
   ],
   "source": [
    "integrate(x*sin(x), x)"
   ]
  },
  {
   "cell_type": "code",
   "execution_count": 14,
   "metadata": {},
   "outputs": [
    {
     "data": {
      "text/plain": [
       "-2*pi"
      ]
     },
     "execution_count": 14,
     "metadata": {},
     "output_type": "execute_result"
    }
   ],
   "source": [
    "integrate(x*sin(x), (x, 0, 2*pi))"
   ]
  },
  {
   "cell_type": "code",
   "execution_count": 26,
   "metadata": {},
   "outputs": [
    {
     "name": "stdout",
     "output_type": "stream",
     "text": [
      "[2]\n"
     ]
    }
   ],
   "source": [
    "print solve(x * 2 - 4, x)"
   ]
  },
  {
   "cell_type": "code",
   "execution_count": 15,
   "metadata": {},
   "outputs": [
    {
     "data": {
      "text/plain": [
       "{x: 39, z: 12, y: 21, t: 24}"
      ]
     },
     "execution_count": 15,
     "metadata": {},
     "output_type": "execute_result"
    }
   ],
   "source": [
    "x = Symbol('x')\n",
    "y = Symbol('y')\n",
    "z = Symbol('z')\n",
    "t = Symbol('t')\n",
    "solve([Eq(4*(x-y-z),t),Eq(2*(3*y-z-x),t),Eq(7*z-x-y,t),Eq(x+y+z,72)],[x,y,z,t])"
   ]
  },
  {
   "cell_type": "code",
   "execution_count": 21,
   "metadata": {},
   "outputs": [
    {
     "name": "stdout",
     "output_type": "stream",
     "text": [
      "LambertW(-5*exp(-5)) + 5\n"
     ]
    }
   ],
   "source": [
    "s, = solve(Eq((5/x)*(exp(x)-1)-exp(x)), x)\n",
    "print s"
   ]
  },
  {
   "cell_type": "code",
   "execution_count": 22,
   "metadata": {},
   "outputs": [
    {
     "data": {
      "text/plain": [
       "4.96511423174428"
      ]
     },
     "execution_count": 22,
     "metadata": {},
     "output_type": "execute_result"
    }
   ],
   "source": [
    "s.evalf()"
   ]
  },
  {
   "cell_type": "code",
   "execution_count": 25,
   "metadata": {},
   "outputs": [
    {
     "name": "stdout",
     "output_type": "stream",
     "text": [
      "0.141885450782171\n",
      "0.141885450782\n"
     ]
    }
   ],
   "source": [
    "f = (5/x)*(exp(x)-1)-exp(x)\n",
    "print f.evalf(subs = {x:4.96})\n",
    "f_func = lambdify(x, f)\n",
    "print f_func(4.96)"
   ]
  },
  {
   "cell_type": "code",
   "execution_count": 28,
   "metadata": {},
   "outputs": [
    {
     "name": "stdout",
     "output_type": "stream",
     "text": [
      "Matrix([[x1*(a11*x1 + a12*x2 + a13*x3) + x2*(a12*x1 + a22*x2 + a23*x3) + x3*(a13*x1 + a23*x2 + a33*x3)]])\n",
      "a11 + 2*a12 + 2*a13 + a22 + 2*a23 + a33\n"
     ]
    }
   ],
   "source": [
    "from sympy import *\n",
    "x1,x2,x3 = symbols('x1 x2 x3')\n",
    "a11,a12,a13,a22,a23,a33 = symbols('a11 a12 a13 a22 a23 a33')\n",
    "m = Matrix([[x1,x2,x3]])\n",
    "n = Matrix([[a11,a12,a13],[a12,a22,a23],[a13,a23,a33]])\n",
    "v = Matrix([[x1],[x2],[x3]])\n",
    "f = m * n * v\n",
    "print f\n",
    "#f[0] 化简， subs代入计算\n",
    "print f[0].subs({x1:1, x2:1, x3:1})"
   ]
  },
  {
   "cell_type": "code",
   "execution_count": 30,
   "metadata": {},
   "outputs": [
    {
     "name": "stdout",
     "output_type": "stream",
     "text": [
      "E\n"
     ]
    }
   ],
   "source": [
    "from sympy import *\n",
    "n = Symbol('n')\n",
    "s = ((n+3)/(n+2))**n\n",
    "\n",
    "#无穷为两个小写o\n",
    "\n",
    "print limit(s, n, oo)"
   ]
  },
  {
   "cell_type": "code",
   "execution_count": 33,
   "metadata": {},
   "outputs": [
    {
     "name": "stdout",
     "output_type": "stream",
     "text": [
      "Si(x - pi) + Si(pi) 2\n"
     ]
    }
   ],
   "source": [
    "from sympy import *\n",
    "t = Symbol('t')\n",
    "x = Symbol('x')\n",
    "m = integrate(sin(t)/(pi-t),(t,0,x))\n",
    "n = integrate(m,(x,0,pi))\n",
    "print m,n"
   ]
  },
  {
   "cell_type": "code",
   "execution_count": null,
   "metadata": {
    "collapsed": true
   },
   "outputs": [],
   "source": []
  }
 ],
 "metadata": {
  "kernelspec": {
   "display_name": "Python 2",
   "language": "python",
   "name": "python2"
  },
  "language_info": {
   "codemirror_mode": {
    "name": "ipython",
    "version": 2
   },
   "file_extension": ".py",
   "mimetype": "text/x-python",
   "name": "python",
   "nbconvert_exporter": "python",
   "pygments_lexer": "ipython2",
   "version": "2.7.12+"
  }
 },
 "nbformat": 4,
 "nbformat_minor": 1
}
